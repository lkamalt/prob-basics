{
 "cells": [
  {
   "cell_type": "markdown",
   "id": "2fb89389",
   "metadata": {},
   "source": [
    "# Оглавление\n",
    "1. [Случайные события. Условная вероятность. Формула Байеса. Независимые испытания](#base)\n",
    "    * [Задание 1](#base_1)\n",
    "        * [Задание 1.а](#base_1_1)\n",
    "        * [Задание 1.б](#base_1_2)\n",
    "    * [Задание 2](#base_2)\n",
    "    * [Задание 3](#base_3)\n",
    "    * [Задание 4](#base_4)"
   ]
  },
  {
   "cell_type": "code",
   "execution_count": 1,
   "id": "18773cbb",
   "metadata": {},
   "outputs": [],
   "source": [
    "from math import factorial"
   ]
  },
  {
   "cell_type": "markdown",
   "id": "3e016556",
   "metadata": {},
   "source": [
    "# Случайные события. Условная вероятность. Формула Байеса. Независимые испытания <a class='anchor' id='base'>"
   ]
  },
  {
   "cell_type": "markdown",
   "id": "a026e348",
   "metadata": {},
   "source": [
    "Вероятность события вычисляется по формуле:\n",
    "\n",
    "$$P = \\frac{m}{n},$$\n",
    "\n",
    "где\n",
    "\n",
    "$m$ - количество исходов, благоприятствующих данному событию,\n",
    "\n",
    "$n$ - количество всевозможных исходов."
   ]
  },
  {
   "cell_type": "code",
   "execution_count": 2,
   "id": "88dfa0ba",
   "metadata": {},
   "outputs": [],
   "source": [
    "def calc_propbe(m, n):\n",
    "    \"\"\" Функция для вычисления вероятности \"\"\"\n",
    "    return m / n"
   ]
  },
  {
   "cell_type": "markdown",
   "id": "f19a4fb0",
   "metadata": {},
   "source": [
    "Формула для вычисления колчества сочетаний:\n",
    "\n",
    "$$C_n^k = \\frac{n!}{k!(n - k)!}.$$"
   ]
  },
  {
   "cell_type": "code",
   "execution_count": 3,
   "id": "1cd7314b",
   "metadata": {},
   "outputs": [],
   "source": [
    "def combinations(n, k):\n",
    "    \"\"\" Функция для вычисления колчества сочетаний \"\"\"\n",
    "    return int(factorial(n) / (factorial(k) * factorial(n - k)))"
   ]
  },
  {
   "cell_type": "markdown",
   "id": "cd0fbb28",
   "metadata": {},
   "source": [
    "Формула для вычисления количества размещений:\n",
    "\n",
    "$$A_n^k = \\frac{n!}{(n - k)!}.$$"
   ]
  },
  {
   "cell_type": "code",
   "execution_count": 4,
   "id": "8616caa7",
   "metadata": {},
   "outputs": [],
   "source": [
    "def arrangements(n, k):\n",
    "    \"\"\" Функция для вычисления количества размещений \"\"\"\n",
    "    return int(factorial(n) / factorial(n - k))"
   ]
  },
  {
   "cell_type": "markdown",
   "id": "0e8a0aaf",
   "metadata": {},
   "source": [
    "Формула для вычисления количества перестановок:\n",
    "\n",
    "$$P_n = n!.$$"
   ]
  },
  {
   "cell_type": "code",
   "execution_count": 5,
   "id": "c8db98d0",
   "metadata": {},
   "outputs": [],
   "source": [
    "def permutations(n):\n",
    "    \"\"\" Функция для вычисления количества перестановок \"\"\"\n",
    "    return int(factorial(n))"
   ]
  },
  {
   "cell_type": "code",
   "execution_count": 6,
   "id": "9fcff8cf",
   "metadata": {},
   "outputs": [],
   "source": [
    "def print_probe(m, n):\n",
    "    \"\"\" Функция для вывода на экран значений \"\"\"\n",
    "    print(f'm = {m}, n = {n}')\n",
    "\n",
    "    P = calc_propbe(m, n)\n",
    "    print(f'P = {P}')"
   ]
  },
  {
   "cell_type": "markdown",
   "id": "a0924e1a",
   "metadata": {},
   "source": [
    "### Задание 1 <a class='anchor' id='base_1'>\n",
    "    \n",
    "Из колоды в 52 карты извлекаются случайным образом 4 карты. "
   ]
  },
  {
   "cell_type": "markdown",
   "id": "f547c75c",
   "metadata": {},
   "source": [
    "**Задание 1.а** <a class='anchor' id='base_1_1'>\n",
    "    \n",
    "*Найти вероятность того, что все карты – крести.*\n",
    "\n",
    "Выбираем 4 карты из 52, причем порядок выбора неважен, значит общее количество исходов:\n",
    "\n",
    "$$n = C_{52}^4.$$\n",
    "\n",
    "В колоде 13 карт - крести, значит количество благоприятных исходов:\n",
    "\n",
    "$$m = C_{13}^4.$$\n",
    "\n",
    "Таким образом, вероятность того, что все карты 4 извлеченные карты - крести, можно вычислить по формуле:\n",
    "\n",
    "$$P = \\frac{m}{n} = \\frac{C_{13}^4}{C_{52}^4} \\approx 0.00264.$$"
   ]
  },
  {
   "cell_type": "code",
   "execution_count": 7,
   "id": "02e805f3",
   "metadata": {},
   "outputs": [
    {
     "name": "stdout",
     "output_type": "stream",
     "text": [
      "m = 715, n = 270725\n",
      "P = 0.0026410564225690276\n"
     ]
    }
   ],
   "source": [
    "m = combinations(13, 4)\n",
    "n = combinations(52, 4)\n",
    "print(f'm = {m}, n = {n}')\n",
    "\n",
    "P = m / n\n",
    "print(f'P = {P}')"
   ]
  },
  {
   "cell_type": "markdown",
   "id": "d61da89b",
   "metadata": {},
   "source": [
    "**Ответ:** $P \\approx 0.00264$."
   ]
  },
  {
   "cell_type": "markdown",
   "id": "36f3e2ce",
   "metadata": {},
   "source": [
    "**Задание 1.б** <a class='anchor' id='base_1_2'>\n",
    "\n",
    "*Найти вероятность, что среди 4-х карт окажется хотя бы один туз.*\n",
    "\n",
    "Всего в колоде 52 карты, из них 4 туза и 48 обычных карт.\n",
    "    \n",
    "Общее количество исходов:\n",
    "    \n",
    "$$n = C_{52}^4.$$\n",
    "\n",
    "Вычислим возможное количество благоприятных исходов.\n",
    "    \n",
    "Всего выбирается 4 карты, в которых может быть от 1 до 4 тузов.\n",
    "    \n",
    "Эти события являются независимыми, поэтому вероятность наступления одного из этих событий равно сумме вероятности наступеления каждого события. Рассмотрим каждый вариант. \n",
    "    \n",
    "1) 1 туз + 3 карты.\n",
    "\n",
    "Один туз из 4 карт можно извлечь 4 способами: $C_4^1 = 4$.\n",
    "    \n",
    "Количество сочетаний для остальных 3 карт из 48 обычных карт: $C_{48}^3$.\n",
    "    \n",
    "Таким образом, количество сочетаний для варианта 1 туз + 3 карты:\n",
    "    \n",
    "$$4 \\cdot C_{48}^3.$$\n",
    "\n",
    "2) 2 туза + 2 карты.\n",
    "    \n",
    "Количество сочетаний для двух тузов: $C_4^2$,\n",
    "\n",
    "количество сочетаний для остальных двух карт: $C_{48}^2$.\n",
    "    \n",
    "Общее количество сочетаний:\n",
    "    \n",
    "$$C_4^2 \\cdot C_{48}^2.$$\n",
    "    \n",
    "3) 3 туза + 1 карта.\n",
    "    \n",
    "Количество сочетаний для трех тузов: $C_4^3$,\n",
    "\n",
    "одну обычную карту можно выбрать 48 способами: $C_{48}^1 = 48$.\n",
    "    \n",
    "Общее количество сочетаний:\n",
    "    \n",
    "$$48 \\cdot C_4^3.$$\n",
    "    \n",
    "4) 4 туза.\n",
    "    \n",
    "Четыре туза из 4 карт можно выбрать одним способом: $C_4^4 = 1$.\n",
    "\n",
    "Таким образом, получаем число благоприятных исходов:\n",
    " \n",
    "$$m = 4 \\cdot C_{48}^3 + C_4^2 \\cdot C_{48}^2 + 48 \\cdot C_4^3 + 1.$$\n",
    "    \n",
    "Тогда вероятность, что среди 4-х карт окажется хотя бы один туз, вычисляется по формуле:\n",
    "    \n",
    "$$P = \\frac{m}{n} = \\frac{4 \\cdot C_{48}^3 + C_4^2 \\cdot C_{48}^2 + 48 \\cdot C_4^3 + 1}{C_{52}^4} \\approx 0.281.$$"
   ]
  },
  {
   "cell_type": "code",
   "execution_count": 8,
   "id": "6544c076",
   "metadata": {},
   "outputs": [
    {
     "name": "stdout",
     "output_type": "stream",
     "text": [
      "m = 76145, n = 270725\n",
      "P = 0.2812632745405855\n"
     ]
    }
   ],
   "source": [
    "m = 4 * combinations(48, 3) + combinations(4, 2) * combinations(48, 2) + 48 * combinations(4, 3) + 1\n",
    "n = combinations(52, 4)\n",
    "print_probe(m, n)"
   ]
  },
  {
   "cell_type": "markdown",
   "id": "21da2540",
   "metadata": {},
   "source": [
    "**Ответ:** $P \\approx 0.281$."
   ]
  },
  {
   "cell_type": "markdown",
   "id": "ed0650fa",
   "metadata": {},
   "source": [
    "### Задание 2 <a class='anchor' id='base_2'>\n",
    "    \n",
    "На входной двери подъезда установлен кодовый замок, содержащий десять кнопок с цифрами от 0 до 9. Код содержит три цифры, которые нужно нажать одновременно. \n",
    "    \n",
    "*Какова вероятность того, что человек, не знающий код, откроет дверь с первой попытки?*"
   ]
  },
  {
   "cell_type": "markdown",
   "id": "994abddd",
   "metadata": {},
   "source": [
    "Общее количество цифр - 10, выбирем 3 цифры.\n",
    "\n",
    "Так как кнопки нажимаются одновременно, то порядок цифр неважен, значит используем сочетание.\n",
    "\n",
    "Общее количесто исходов:\n",
    "\n",
    "$$n = C_{10}^3.$$\n",
    "\n",
    "Правильный пароль можно выбрать только одним способом:\n",
    "\n",
    "$$m = C_3^3 = 1.$$\n",
    "\n",
    "Таким образом, вероятность того, что человек откроет дверь с первой попытки:\n",
    "\n",
    "$$P = \\frac{m}{n} = \\frac{1}{C_{10}^3} \\approx 0.0083.$$"
   ]
  },
  {
   "cell_type": "code",
   "execution_count": 9,
   "id": "055701dd",
   "metadata": {},
   "outputs": [
    {
     "name": "stdout",
     "output_type": "stream",
     "text": [
      "m = 1, n = 120\n",
      "P = 0.008333333333333333\n"
     ]
    }
   ],
   "source": [
    "m = 1\n",
    "n = combinations(10, 3)\n",
    "print_probe(m, n)"
   ]
  },
  {
   "cell_type": "markdown",
   "id": "b89d362c",
   "metadata": {},
   "source": [
    "**Ответ:** $P \\approx 0.0083$."
   ]
  },
  {
   "cell_type": "markdown",
   "id": "36a53941",
   "metadata": {},
   "source": [
    "### Задание 3 <a class='anchor' id='base_3'>\n",
    "    \n",
    "В ящике имеется 15 деталей, из которых 9 окрашены. Рабочий случайным образом извлекает 3 детали. \n",
    "    \n",
    "*Какова вероятность того, что все извлеченные детали окрашены?*"
   ]
  },
  {
   "cell_type": "markdown",
   "id": "7c4d6f59",
   "metadata": {},
   "source": [
    "Всего 15 деталей, 9 из них окрашены, извлекается 3 детали.\n",
    "\n",
    "Общее количество исходов:\n",
    "\n",
    "$$n = C_{15}^3.$$\n",
    "\n",
    "Число благоприятных исходов:\n",
    "\n",
    "$$m = C_9^3.$$\n",
    "\n",
    "Тогда веротяность того, что все извлеченные детали будут окрашены:\n",
    "\n",
    "$$P = \\frac{m}{n} = \\frac{C_9^3}{C_{15}^3} \\approx 0.185.$$"
   ]
  },
  {
   "cell_type": "code",
   "execution_count": 10,
   "id": "f132faaa",
   "metadata": {
    "scrolled": true
   },
   "outputs": [
    {
     "name": "stdout",
     "output_type": "stream",
     "text": [
      "m = 84, n = 455\n",
      "P = 0.18461538461538463\n"
     ]
    }
   ],
   "source": [
    "m = combinations(9, 3)\n",
    "n = combinations(15, 3)\n",
    "print_probe(m, n)"
   ]
  },
  {
   "cell_type": "markdown",
   "id": "1550dc84",
   "metadata": {},
   "source": [
    "**Ответ:** $P \\approx 0.185$."
   ]
  },
  {
   "cell_type": "markdown",
   "id": "7e195efb",
   "metadata": {},
   "source": [
    "### Задание 4 <a class='anchor' id='base_4'>\n",
    "    \n",
    "В лотерее 100 билетов. Из них 2 выигрышных. \n",
    "    \n",
    "*Какова вероятность того, что 2 приобретенных билета окажутся выигрышными?*"
   ]
  },
  {
   "cell_type": "markdown",
   "id": "e18588a3",
   "metadata": {},
   "source": [
    "Всего 100 билотов, из них 2 выигрышные.\n",
    "\n",
    "Общее количество исходов:\n",
    "\n",
    "$$n = C_{100}^2.$$\n",
    "\n",
    "Два выигрышных билета из 2 можно выбрать 1 способом:\n",
    "\n",
    "$$m = C_2^2 = 1.$$\n",
    "\n",
    "Тогда вероятность того, что 2 билета окажутся выигрышными:\n",
    "\n",
    "$$P = \\frac{m}{n} = \\frac{1}{C_{100}^2} \\approx 0.0002.$$"
   ]
  },
  {
   "cell_type": "code",
   "execution_count": 11,
   "id": "dd3f107c",
   "metadata": {},
   "outputs": [
    {
     "name": "stdout",
     "output_type": "stream",
     "text": [
      "m = 1, n = 4950\n",
      "P = 0.00020202020202020202\n"
     ]
    }
   ],
   "source": [
    "m = 1\n",
    "n = combinations(100, 2)\n",
    "print_probe(m, n)"
   ]
  },
  {
   "cell_type": "markdown",
   "id": "1a2c9a41",
   "metadata": {},
   "source": [
    "**Ответ:** $P \\approx 0.0002$."
   ]
  }
 ],
 "metadata": {
  "kernelspec": {
   "display_name": "Python 3 (ipykernel)",
   "language": "python",
   "name": "python3"
  },
  "language_info": {
   "codemirror_mode": {
    "name": "ipython",
    "version": 3
   },
   "file_extension": ".py",
   "mimetype": "text/x-python",
   "name": "python",
   "nbconvert_exporter": "python",
   "pygments_lexer": "ipython3",
   "version": "3.9.7"
  }
 },
 "nbformat": 4,
 "nbformat_minor": 5
}
