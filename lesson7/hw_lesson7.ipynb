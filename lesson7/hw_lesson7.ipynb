{
 "cells": [
  {
   "cell_type": "markdown",
   "id": "9bc6cb13",
   "metadata": {},
   "source": [
    "# Оглавление\n",
    "1. [Многомерный статистический анализ. Линейная регрессия.](#regr)\n",
    "    * [Задание 1](#regr_1)\n",
    "        * [Задание 1.1](#regr_1_1)\n",
    "        * [Задание 1.2](#regr_1_2)\n",
    "    * [Задание 2](#regr_2)\n",
    "    * [Задание 3](#regr_3)"
   ]
  },
  {
   "cell_type": "markdown",
   "id": "c15c3758",
   "metadata": {},
   "source": [
    "# Многомерный статистический анализ. Линейная регрессия. <a class='anchor' id='regr'>"
   ]
  },
  {
   "cell_type": "code",
   "execution_count": 1,
   "id": "2970b245",
   "metadata": {},
   "outputs": [],
   "source": [
    "import numpy as np\n",
    "import matplotlib.pyplot as plt"
   ]
  },
  {
   "cell_type": "markdown",
   "id": "87649769",
   "metadata": {},
   "source": [
    "### Задание 1 <a class='anchor' id='regr_1'>\n",
    "    \n",
    "Даны значения величины заработной платы заемщиков банка (zp) и значения их поведенческого кредитного скоринга (ks): \n",
    "    \n",
    "zp = [35, 45, 190, 200, 40, 70, 54, 150, 120, 110], \n",
    "    \n",
    "ks = [401, 574, 874, 919, 459, 739, 653, 902, 746, 832]. \n",
    "    \n",
    "*Используя математические операции, посчитать коэффициенты линейной регрессии, приняв за X заработную плату (то есть, zp - признак), а за y - значения скорингового балла (то есть, ks - целевая переменная).*"
   ]
  },
  {
   "cell_type": "code",
   "execution_count": 2,
   "id": "610f15f4",
   "metadata": {},
   "outputs": [],
   "source": [
    "# Список заработной платы заемщиков банка zp\n",
    "x = np.array([35, 45, 190, 200, 40, 70, 54, 150, 120, 110], dtype=np.float32)\n",
    "# Список значений их поведенческого кредитного скоринга ks\n",
    "y = np.array([401, 574, 874, 919, 459, 739, 653, 902, 746, 832], dtype=np.float32)"
   ]
  },
  {
   "cell_type": "code",
   "execution_count": 3,
   "id": "229007fd",
   "metadata": {},
   "outputs": [],
   "source": [
    "# Запомним количество элементов\n",
    "n = len(x)"
   ]
  },
  {
   "cell_type": "code",
   "execution_count": 4,
   "id": "fa60a7bb",
   "metadata": {},
   "outputs": [],
   "source": [
    "def plot(b1=0, b0=0):\n",
    "    \"\"\" \n",
    "    Строит линию линейной регрессии и отображает исходные точки\n",
    "    :param b1: slope\n",
    "    :param b0: intercept\n",
    "    \"\"\"\n",
    "    plt.scatter(x, y, label='Исходные точки')\n",
    "    \n",
    "    if b1 != 0:\n",
    "        y_hat = b1 * x + b0\n",
    "        plt.plot(x, y_hat, color='red', label='Линия регрессии')\n",
    "    \n",
    "    plt.xlabel('zp')\n",
    "    plt.ylabel('ks')\n",
    "    plt.legend()\n",
    "    \n",
    "    plt.show()"
   ]
  },
  {
   "cell_type": "code",
   "execution_count": 5,
   "id": "08657806",
   "metadata": {},
   "outputs": [
    {
     "data": {
      "image/png": "[encoded data removed]",
      "text/plain": [
       "<Figure size 432x288 with 1 Axes>"
      ]
     },
     "metadata": {
      "needs_background": "light"
     },
     "output_type": "display_data"
    }
   ],
   "source": [
    "# Отобразим распределение точек\n",
    "plot()"
   ]
  },
  {
   "cell_type": "markdown",
   "id": "3aed9453",
   "metadata": {},
   "source": [
    "**Задание 1.1** <a class='anchor' id='regr_1_1'>\n",
    "    \n",
    "*Произвести расчет с использованием intercept*"
   ]
  },
  {
   "cell_type": "markdown",
   "id": "0ad566b4",
   "metadata": {},
   "source": [
    "Предполагаем, что зависимость целевой переменной $y$ от признака $x$ описывается линейной функцией:\n",
    "\n",
    "$$y = \\beta_0 + \\beta_1 x,$$\n",
    "\n",
    "где $\\beta_0$, $\\beta_1$ - коэффициенты линейной регрессии.\n",
    "\n",
    "Формулы для расчета коэффициентов линейной регрессии:\n",
    "\n",
    "$$\\beta_1 = \\frac{n \\sum_{i = 1}^n x_i y_i - \\left(\\sum_{i = 1}^n x_i \\right) \\left( \\sum_{i = 1}^n y_i \\right)}{n \\sum_{i = 1}^n x_i^2 - \\left( \\sum_{i = 1}^n x_i \\right)^2},$$\n",
    "\n",
    "$$\\beta_0 = \\frac{1}{n}\\sum_{i = 1}^n y_i - \\beta_1 \\frac{1}{n}\\sum_{i = 1}^n x_i,$$\n",
    "\n",
    "где $x_i$ - список заработной платы заемщиков банка (zp), $y_i$ - список значений их поведенческого кредитного скоринга ks.\n",
    "\n",
    "Проведя вычисления, получаем следующие значения коэффциентов:\n",
    "\n",
    "$$\\beta_0 \\approx 444.177,$$\n",
    "\n",
    "$$\\beta_1 \\approx 2.621.$$\n",
    "\n",
    "Также вычислим коэффициенты с помощью матричного метода. \n",
    "\n",
    "В этом случае для коэффициентов записывается матричное уравнение:\n",
    "\n",
    "$$\\begin{pmatrix}\n",
    "    y_{1} \\\\\n",
    "    y_{2} \\\\\n",
    "    \\dots \\\\\n",
    "    y_{n}\n",
    "\\end{pmatrix} = \n",
    "\\begin{pmatrix}\n",
    "    1 & x_{1} \\\\\n",
    "    1 & x_{2} \\\\\n",
    "    \\dots & \\dots \\\\\n",
    "    1 & x_{n}\n",
    "\\end{pmatrix} \n",
    "\\begin{pmatrix}\n",
    "    \\beta_{0} \\\\\n",
    "    \\beta_{1}\n",
    "\\end{pmatrix},$$\n",
    "\n",
    "и коэффициенты вычислятся следующим образом:\n",
    "\n",
    "$$B = (X^T X)^{-1} X^T Y \\approx \n",
    "\\begin{pmatrix}\n",
    "    444.177 \\\\\n",
    "    2.621\n",
    "\\end{pmatrix}.$$\n",
    "\n",
    "Таким образом, уравнение аппроксимации можно записать следующим образом:\n",
    "\n",
    "$$y = 2.621 x + 444.177.$$"
   ]
  },
  {
   "cell_type": "code",
   "execution_count": 6,
   "id": "4eaa9f2b",
   "metadata": {},
   "outputs": [
    {
     "name": "stdout",
     "output_type": "stream",
     "text": [
      "Через формулы: b0 = 444.17737773979707, b1 = 2.6205388824027653\n",
      "Матричный метод: b0 = 444.1773573243596, b1 = 2.6205388824027636\n"
     ]
    }
   ],
   "source": [
    "# Расчет через формулы\n",
    "b1 = (n * np.sum(x * y) - np.sum(x) * np.sum(y)) / (n * np.sum(np.power(x, 2)) - np.power(np.sum(x), 2))\n",
    "b0 = np.mean(y) - b1 * np.mean(x)\n",
    "print(f'Через формулы: b0 = {b0}, b1 = {b1}')\n",
    "\n",
    "# Расчет матричным методом\n",
    "X = x.reshape((n, 1))\n",
    "Y = y.reshape((n, 1))\n",
    "\n",
    "X = np.hstack([np.ones((n, 1)), X])\n",
    "\n",
    "B = np.linalg.inv(np.dot(X.T, X)) @ X.T @ y\n",
    "print(f'Матричный метод: b0 = {B[0]}, b1 = {B[1]}')"
   ]
  },
  {
   "cell_type": "code",
   "execution_count": 7,
   "id": "64e766de",
   "metadata": {},
   "outputs": [
    {
     "data": {
      "image/png": "[encoded data removed]",
      "text/plain": [
       "<Figure size 432x288 with 1 Axes>"
      ]
     },
     "metadata": {
      "needs_background": "light"
     },
     "output_type": "display_data"
    }
   ],
   "source": [
    "# Построим аппроксимирующую линию\n",
    "plot(b1, b0)"
   ]
  },
  {
   "cell_type": "markdown",
   "id": "4cb77912",
   "metadata": {},
   "source": [
    "**Ответ (задание 1.1):** $y = 2.621 x + 444.177$."
   ]
  },
  {
   "cell_type": "markdown",
   "id": "191e0d4a",
   "metadata": {},
   "source": [
    "**Задание 1.2** <a class='anchor' id='regr_1_2'>\n",
    "    \n",
    "*Произвести расчет без intercept*"
   ]
  },
  {
   "cell_type": "markdown",
   "id": "e532e728",
   "metadata": {},
   "source": [
    "Предполагаем, что зависимость целевой переменной $y$ от признака $x$ описывается линейной функцией:\n",
    "\n",
    "$$y = \\beta_1 x,$$\n",
    "\n",
    "где $\\beta_1$ - коэффициент линейной регрессии.\n",
    "\n",
    "Формула для расчета коэффициента $\\beta_1$ линейной регрессии:\n",
    "\n",
    "$$\\beta_1 = \\frac{\\sum_{i = 1}^n x_i y_i}{\\sum_{i = 1}^n x_i^2},$$\n",
    "\n",
    "где $x_i$ - список заработной платы заемщиков банка (zp), $y_i$ - список значений их поведенческого кредитного скоринга ks.\n",
    "\n",
    "Проведя вычисления, получаем следующие значения коэффциентов:\n",
    "\n",
    "$$\\beta_1 \\approx 5.889.$$\n",
    "\n",
    "Также вычислим этот коэффициент с помощью матричного метода. В этом случае записывается матричное уравнение:\n",
    "\n",
    "$$\\begin{pmatrix}\n",
    "    y_{1} \\\\\n",
    "    y_{2} \\\\\n",
    "    \\dots \\\\\n",
    "    y_{n}\n",
    "\\end{pmatrix} = \n",
    "\\begin{pmatrix}\n",
    "    x_{1} \\\\\n",
    "    x_{2} \\\\\n",
    "    \\dots \\\\\n",
    "    x_{n}\n",
    "\\end{pmatrix} \n",
    "\\begin{pmatrix}\n",
    "    \\beta_{1}\n",
    "\\end{pmatrix},$$\n",
    "\n",
    "и коэффициенты вычислятся следующим образом:\n",
    "\n",
    "$$B = (X^T X)^{-1} X^T Y \\approx \n",
    "\\begin{pmatrix}\n",
    "    5.889\n",
    "\\end{pmatrix}.$$\n",
    "\n",
    "Таким образом, уравнение аппроксимации можно записать следующим образом:\n",
    "\n",
    "$$y = 5.889 x.$$"
   ]
  },
  {
   "cell_type": "code",
   "execution_count": 8,
   "id": "50bb3620",
   "metadata": {},
   "outputs": [
    {
     "name": "stdout",
     "output_type": "stream",
     "text": [
      "Через формулы: b1 = 5.889820575714111\n",
      "Матричный метод: b1 = 5.889820098876953\n"
     ]
    }
   ],
   "source": [
    "# Расчет через формулы\n",
    "b = (np.sum(x * y)) / (np.sum(np.power(x, 2)))\n",
    "print(f'Через формулы: b1 = {b}')\n",
    "\n",
    "# Расчет матричным методом\n",
    "X = x.reshape((n, 1))\n",
    "Y = y.reshape((n, 1))\n",
    "\n",
    "B = np.linalg.inv(np.dot(X.T, X)) @ X.T @ y\n",
    "print(f'Матричный метод: b1 = {B[0]}')"
   ]
  },
  {
   "cell_type": "code",
   "execution_count": 9,
   "id": "f0cdd64b",
   "metadata": {},
   "outputs": [
    {
     "data": {
      "image/png": "[encoded data removed]",
      "text/plain": [
       "<Figure size 432x288 with 1 Axes>"
      ]
     },
     "metadata": {
      "needs_background": "light"
     },
     "output_type": "display_data"
    }
   ],
   "source": [
    "# Построим аппроксимирующую линию\n",
    "plot(b)"
   ]
  },
  {
   "cell_type": "markdown",
   "id": "eaad8032",
   "metadata": {},
   "source": [
    "**Ответ (задание 1.2):** $y = 5.889 x$."
   ]
  },
  {
   "cell_type": "markdown",
   "id": "2c240ea1",
   "metadata": {},
   "source": [
    "*Сравним аппроксимирующие линии, полученные с intercept и без него.*"
   ]
  },
  {
   "cell_type": "code",
   "execution_count": 10,
   "id": "d586647c",
   "metadata": {},
   "outputs": [
    {
     "data": {
      "image/png": "[encoded data removed]",
      "text/plain": [
       "<Figure size 432x288 with 1 Axes>"
      ]
     },
     "metadata": {
      "needs_background": "light"
     },
     "output_type": "display_data"
    }
   ],
   "source": [
    "y_hat1 = b1 * x + b0\n",
    "y_hat2 = b * x\n",
    "\n",
    "plt.scatter(x, y, label='Исходные точки')\n",
    "plt.plot(x, y_hat1, color='red', label='С intercept')\n",
    "plt.plot(x, y_hat2, color='green', label='Без intercept')\n",
    "\n",
    "plt.legend()\n",
    "plt.xlabel('zp')\n",
    "plt.ylabel('ks')\n",
    "\n",
    "plt.show()"
   ]
  },
  {
   "cell_type": "markdown",
   "id": "41ac07c0",
   "metadata": {},
   "source": [
    "### Задание 2 <a class='anchor' id='regr_2'>\n",
    "    \n",
    "*Посчитать коэффициент линейной регрессии при заработной плате (zp), используя градиентный спуск (без intercept).*"
   ]
  },
  {
   "cell_type": "code",
   "execution_count": 11,
   "id": "37dce613",
   "metadata": {},
   "outputs": [],
   "source": [
    "def mse(b):\n",
    "    \"\"\" \n",
    "    Вычисляет среднеквадратичную ошибку MSE для случая без intercept\n",
    "    :param b: slope\n",
    "    \"\"\"\n",
    "    return np.sum(np.power(y - b * x, 2)) / n "
   ]
  },
  {
   "cell_type": "code",
   "execution_count": 12,
   "id": "41818e57",
   "metadata": {},
   "outputs": [],
   "source": [
    "def derivative(b):\n",
    "    \"\"\" \n",
    "    Вычисляет значение производной функции mse для случая без intercept\n",
    "    :param b: slope\n",
    "    \"\"\"\n",
    "    return -(2 / n) * np.sum((y - b * x) * x)"
   ]
  },
  {
   "cell_type": "code",
   "execution_count": 13,
   "id": "3094d3a7",
   "metadata": {},
   "outputs": [
    {
     "name": "stdout",
     "output_type": "stream",
     "text": [
      "Итерация 0: b = 0.25952807499999997, mse = 493237.7\n",
      "Итерация 100: b = 5.545378396874999, mse = 58151.325\n",
      "Итерация 200: b = 5.868748630859372, mse = 56522.98125\n",
      "\n",
      "Результат:\n",
      "Итерация 271: b = 5.886921870703124, mse = 56516.98125\n"
     ]
    }
   ],
   "source": [
    "# Скорость градиентного спуска\n",
    "alpha = 1e-6\n",
    "# Начальное приблжение для b\n",
    "b = 0.1\n",
    "# Условие остановки алгоритма\n",
    "tolerance = 1e-5\n",
    "# Счетчик цикла\n",
    "i = 0\n",
    "\n",
    "# Алгорит градиентного спуска\n",
    "while True:\n",
    "    mse_prev = mse(b)\n",
    "    b -= alpha * derivative(b)\n",
    "    \n",
    "    mse_curr = mse(b)\n",
    "    if i % 100 == 0:\n",
    "        print(f'Итерация {i}: b = {b}, mse = {mse_curr}')\n",
    "        \n",
    "    if np.abs(mse_curr - mse_prev) < tolerance:\n",
    "        break\n",
    "    i += 1\n",
    "\n",
    "print('\\nРезультат:')\n",
    "print(f'Итерация {i}: b = {b}, mse = {mse_curr}')"
   ]
  },
  {
   "cell_type": "markdown",
   "id": "7a9572c8",
   "metadata": {},
   "source": [
    "Видно, что полученное значение совпадает со значением из [Задания 1.2](#regr_1_2) с точностью до второго знака."
   ]
  },
  {
   "cell_type": "markdown",
   "id": "6e442cde",
   "metadata": {},
   "source": [
    "**Ответ (задание 2):** $y = 5.887 x$."
   ]
  },
  {
   "cell_type": "markdown",
   "id": "cfaa732d",
   "metadata": {},
   "source": [
    "### Задание 3 <a class='anchor' id='regr_3'>\n",
    "    \n",
    "*Произвести вычисления как в пункте 2, но с вычислением intercept. Учесть, что изменение коэффициентов должно производиться\n",
    "на каждом шаге одновременно (то есть изменение одного коэффициента не должно влиять на изменение другого во время одной итерации).*"
   ]
  },
  {
   "cell_type": "markdown",
   "id": "2674ea5e",
   "metadata": {},
   "source": [
    "Для определения начальных значений для коэффициентов линейной регрессии построим график."
   ]
  },
  {
   "cell_type": "code",
   "execution_count": 14,
   "id": "102a54c7",
   "metadata": {
    "scrolled": true
   },
   "outputs": [
    {
     "data": {
      "image/png": "[encoded data removed]",
      "text/plain": [
       "<Figure size 432x288 with 1 Axes>"
      ]
     },
     "metadata": {
      "needs_background": "light"
     },
     "output_type": "display_data"
    }
   ],
   "source": [
    "plot()"
   ]
  },
  {
   "cell_type": "markdown",
   "id": "bfe23fe6",
   "metadata": {},
   "source": [
    "Из графика можно предположить, что для b0 (intercept) можно взять начальное значение примерно равное 400-450."
   ]
  },
  {
   "cell_type": "code",
   "execution_count": 15,
   "id": "26f0e8e9",
   "metadata": {},
   "outputs": [],
   "source": [
    "def mse(b0, b1):\n",
    "    \"\"\" \n",
    "    Вычисляет среднеквадратичную ошибку MSE для случая с intercept\n",
    "    :param b0: intercept\n",
    "    :param b1: slope\n",
    "    \"\"\"\n",
    "    return np.sum(np.power(y - b0 - b1 * x, 2)) / n "
   ]
  },
  {
   "cell_type": "code",
   "execution_count": 16,
   "id": "709a4aed",
   "metadata": {},
   "outputs": [],
   "source": [
    "def derivative_b0(b0, b1):\n",
    "    \"\"\" \n",
    "    Вычисляет частную производную функции mse по b0 для случая с intercept\n",
    "    :param b0: intercept\n",
    "    :param b1: slope\n",
    "    \"\"\"\n",
    "    return -(2 / n) * np.sum(y - b0 - b1 * x)"
   ]
  },
  {
   "cell_type": "code",
   "execution_count": 17,
   "id": "36aaf942",
   "metadata": {},
   "outputs": [],
   "source": [
    "def derivative_b1(b0, b1):\n",
    "    \"\"\" \n",
    "    Вычисляет частную производную функции mse по b1 для случая с intercept\n",
    "    :param b0: intercept\n",
    "    :param b1: slope\n",
    "    \"\"\"\n",
    "    return -(2 / n) * np.sum((y - b0 - b1 * x) * x)"
   ]
  },
  {
   "cell_type": "code",
   "execution_count": 18,
   "id": "ec2960ee",
   "metadata": {
    "scrolled": true
   },
   "outputs": [
    {
     "name": "stdout",
     "output_type": "stream",
     "text": [
      "Итерация 0: b0 = 400.000417, b1 = 1.0536102, mse = 56285.46875\n",
      "Итерация 100: b0 = 400.0157314055635, b1 = 2.829854116796876, mse = 7149.634375\n",
      "Итерация 200: b0 = 400.01877133918475, b1 = 2.938486466699219, mse = 6965.7453125\n",
      "\n",
      "Результат:\n",
      "Итерация 261: b0 = 400.0201804502016, b1 = 2.9442677026367194, mse = 6965.046875\n"
     ]
    }
   ],
   "source": [
    "# Скорость градиентного спуска\n",
    "alpha = 1e-6\n",
    "# Начальное приблжение для коэффициентов b0, b1\n",
    "b0_prev = 400.0\n",
    "b1_prev = 1.0\n",
    "# Условие остановки алгоритма\n",
    "tolerance = 1e-6\n",
    "# Счетчик цикла\n",
    "i = 0\n",
    "\n",
    "# Алгорит градиентного спуска\n",
    "while True:\n",
    "    mse_prev = mse(b0_prev, b1_prev)\n",
    "    \n",
    "    b0_curr = b0_prev - alpha * derivative_b0(b0_prev, b1_prev)\n",
    "    b1_curr = b1_prev - alpha * derivative_b1(b0_prev, b1_prev)\n",
    "    \n",
    "    mse_curr = mse(b0_curr, b1_curr)\n",
    "    if i % 100 == 0:\n",
    "        print(f'Итерация {i}: b0 = {b0_curr}, b1 = {b1_curr}, mse = {mse_curr}')\n",
    "    \n",
    "    if np.abs(mse_curr - mse_prev) < tolerance:\n",
    "        break\n",
    "        \n",
    "    b0_prev, b1_prev = b0_curr, b1_curr\n",
    "    \n",
    "    i += 1\n",
    "\n",
    "print('\\nРезультат:')\n",
    "print(f'Итерация {i}: b0 = {b0_curr}, b1 = {b1_curr}, mse = {mse_curr}')"
   ]
  },
  {
   "cell_type": "code",
   "execution_count": 19,
   "id": "6d3cbeab",
   "metadata": {},
   "outputs": [
    {
     "data": {
      "image/png": "[encoded data removed]",
      "text/plain": [
       "<Figure size 432x288 with 1 Axes>"
      ]
     },
     "metadata": {
      "needs_background": "light"
     },
     "output_type": "display_data"
    }
   ],
   "source": [
    "# Построим аппроксимирующую линию с полученными коэффициентами\n",
    "plot(b1_curr, b0_curr)"
   ]
  },
  {
   "cell_type": "markdown",
   "id": "194a93bb",
   "metadata": {},
   "source": [
    "При тестировании алгоритма была замечена особенность, что при задании любых значений примерно > 100 для $\\beta_0$, алгоритм довольно быстро сходился к значению, похожему на начальное. Чтобы понять причину такого поведения, был построен график функции ошибок MSE (рисунок ниже). На рисунке видно, что похоже функция имеет очень пологий участок, на котором функция принимает минимальное значение. К этому частку сходится алгоритм при разных начальных значениях."
   ]
  },
  {
   "cell_type": "markdown",
   "id": "1e734634",
   "metadata": {},
   "source": [
    "<img src=\"mse.png\">"
   ]
  },
  {
   "cell_type": "markdown",
   "id": "b87ea5ec",
   "metadata": {},
   "source": [
    "**Ответ (задание 3):** $y = 2.944 x + 400.02$."
   ]
  }
 ],
 "metadata": {
  "kernelspec": {
   "display_name": "Python 3 (ipykernel)",
   "language": "python",
   "name": "python3"
  },
  "language_info": {
   "codemirror_mode": {
    "name": "ipython",
    "version": 3
   },
   "file_extension": ".py",
   "mimetype": "text/x-python",
   "name": "python",
   "nbconvert_exporter": "python",
   "pygments_lexer": "ipython3",
   "version": "3.9.7"
  }
 },
 "nbformat": 4,
 "nbformat_minor": 5
}
