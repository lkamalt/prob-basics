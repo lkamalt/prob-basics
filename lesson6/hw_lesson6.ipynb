{
 "cells": [
  {
   "cell_type": "markdown",
   "id": "cb30c312",
   "metadata": {},
   "source": [
    "# Оглавление\n",
    "1. [Взаимосвязь величин. Параметрические и непараметрические показатели корреляции. Корреляционный анализ.](#corr)\n",
    "    * [Задание 1](#corr_1)\n",
    "        * [Задание 1.1](#corr_1_1)\n",
    "        * [Задание 1.2](#corr_1_2)\n",
    "    * [Задание 2](#corr_2)\n",
    "    * [Задание 3](#corr_3)"
   ]
  },
  {
   "cell_type": "markdown",
   "id": "77da1a24",
   "metadata": {},
   "source": [
    "# Взаимосвязь величин. Параметрические и непараметрические показатели корреляции. Корреляционный анализ. <a class='anchor' id='corr'>"
   ]
  },
  {
   "cell_type": "code",
   "execution_count": 1,
   "id": "8e3fca9d",
   "metadata": {},
   "outputs": [],
   "source": [
    "import numpy as np\n",
    "from scipy.stats import norm, t"
   ]
  },
  {
   "cell_type": "markdown",
   "id": "500f1643",
   "metadata": {},
   "source": [
    "### Задание 1 <a class='anchor' id='corr_1'>\n",
    "    \n",
    "Даны значения величины заработной платы заемщиков банка (zp) и значения их поведенческого кредитного скоринга (ks):\n",
    "    \n",
    "zp = [35, 45, 190, 200, 40, 70, 54, 150, 120, 110],\n",
    "\n",
    "ks = [401, 574, 874, 919, 459, 739, 653, 902, 746, 832]."
   ]
  },
  {
   "cell_type": "code",
   "execution_count": 2,
   "id": "dfe471b9",
   "metadata": {},
   "outputs": [],
   "source": [
    "# Выборки\n",
    "x = np.array([35, 45, 190, 200, 40, 70, 54, 150, 120, 110], dtype=np.float32)\n",
    "y = np.array([401, 574, 874, 919, 459, 739, 653, 902, 746, 832], dtype=np.float32)"
   ]
  },
  {
   "cell_type": "markdown",
   "id": "12951f9a",
   "metadata": {},
   "source": [
    "**Задание 1.1** <a class='anchor' id='corr_1_1'>\n",
    "    \n",
    "*Найдите ковариацию этих двух величин с помощью элементарных действий, а затем с помощью функции cov из numpy. Полученные значения должны быть равны.*"
   ]
  },
  {
   "cell_type": "markdown",
   "id": "821c7b37",
   "metadata": {},
   "source": [
    "Ковариация двух случайных величин вычисляется по следующей формуле:\n",
    "\n",
    "$$\\text{cov}_{XY} = M(X \\cdot Y) - M(X) \\cdot M(Y),$$\n",
    "\n",
    "где $M$ - математическое ожидание.\n",
    "\n",
    "По условию задачи даны две выборки $\\text{zp} = x_i$, $\\text{ks} = y_i$ тогда можно вычислить смещенную выборочную ковариацию, используя выборочное среденее:\n",
    "\n",
    "$$\\text{cov}_{XY} = \\frac{1}{n}\\sum_{i = 1}^n x_i y_i + \\overline{X}\\overline{Y} = \\frac{1}{n}\\sum_{i = 1}^n x_i y_i + \\left( \\frac{1}{n}\\sum_{i = 1}^n x_i \\right) \\cdot \\left( \\frac{1}{n}\\sum_{i = 1}^n y_i \\right) \\approx 9157.836.$$"
   ]
  },
  {
   "cell_type": "code",
   "execution_count": 3,
   "id": "5ed8899d",
   "metadata": {},
   "outputs": [
    {
     "name": "stdout",
     "output_type": "stream",
     "text": [
      "Матрица ковариации numpy:\n",
      "[[ 3494.64  9157.84]\n",
      " [ 9157.84 30468.89]]\n",
      "\n",
      "Ковариация:\n",
      "cov_elem = 9157.8359375\n",
      "cov_np = 9157.84\n"
     ]
    }
   ],
   "source": [
    "# Расчет через элементарные функции\n",
    "cov_elem = np.mean(x * y) - np.mean(x) * np.mean(y)\n",
    "# Проверка через numpy\n",
    "cov_np = np.cov(x, y, ddof=0)\n",
    "\n",
    "print(f'Матрица ковариации numpy:\\n{cov_np}\\n')\n",
    "print(f'Ковариация:\\ncov_elem = {cov_elem}\\ncov_np = {cov_np[0, 1]}')"
   ]
  },
  {
   "cell_type": "markdown",
   "id": "622fc42c",
   "metadata": {},
   "source": [
    "**Ответ (задание 1.1):** $\\text{cov}_{XY} \\approx 9157.836$."
   ]
  },
  {
   "cell_type": "markdown",
   "id": "e71d5377",
   "metadata": {},
   "source": [
    "**Задание 1.2** <a class='anchor' id='corr_1_2'>\n",
    "    \n",
    "*Найдите коэффициент корреляции Пирсона с помощью ковариации и среднеквадратичных отклонений двух признаков, а затем с использованием функций из библиотек numpy и pandas.*"
   ]
  },
  {
   "cell_type": "markdown",
   "id": "e79d6699",
   "metadata": {},
   "source": [
    "Коэффициент корреляции Пирсона вычисляется по следующей формуле:\n",
    "\n",
    "$$r_{XY} = \\frac{\\text{cov}_{XY}}{\\sigma_X \\cdot \\sigma_Y},$$\n",
    "\n",
    "где $\\sigma$ - среднеквадратичное отклонение.\n",
    "\n",
    "Вычисляем смещенную ковариацию, поэтому СКО также будем вычислять с использованием формулы для смещенной оценки:\n",
    "\n",
    "$$\\sigma_X = \\sqrt{\\frac{\\sum_{i = 1}^n (x_i - \\overline{X})^2}{n}},$$\n",
    "\n",
    "для $\\sigma_Y$ используется аналогичная формула.\n",
    "\n",
    "Таким образом, получаем значение коэффициента корреляции Пирсона:\n",
    "\n",
    "$$r_{XY} \\approx 0.887.$$"
   ]
  },
  {
   "cell_type": "code",
   "execution_count": 4,
   "id": "3c941f11",
   "metadata": {},
   "outputs": [
    {
     "name": "stdout",
     "output_type": "stream",
     "text": [
      "Матрица корреляции Пирсона numpy:\n",
      "[[1.         0.88749009]\n",
      " [0.88749009 1.        ]]\n",
      "\n",
      "Коэффициенты корреляции:\n",
      "r_elem = 0.8874895572662354\n",
      "r_np = 0.8874900920739162\n"
     ]
    }
   ],
   "source": [
    "# Расчет через элементарные функции\n",
    "r_elem = cov_elem / (np.std(x, ddof=0) * np.std(y, ddof=0))\n",
    "# Проверка через numpy\n",
    "r_np = np.corrcoef(x, y)\n",
    "\n",
    "print(f'Матрица корреляции Пирсона numpy:\\n{r_np}\\n')\n",
    "print(f'Коэффициенты корреляции:\\nr_elem = {r_elem}\\nr_np = {r_np[0, 1]}')"
   ]
  },
  {
   "cell_type": "markdown",
   "id": "28048384",
   "metadata": {},
   "source": [
    "**Ответ (задание 1.2):** $r_{XY} \\approx 0.887$."
   ]
  },
  {
   "cell_type": "markdown",
   "id": "b44d7c96",
   "metadata": {},
   "source": [
    "### Задание 2 <a class='anchor' id='corr_2'>\n",
    "    \n",
    "Измерены значения IQ выборки студентов, обучающихся в местных технических вузах:\n",
    "    \n",
    "131, 125, 115, 122, 131, 115, 107, 99, 125, 111.\n",
    "    \n",
    "Известно, что в генеральной совокупности IQ распределен нормально.\n",
    "    \n",
    "*Найдите доверительный интервал для математического ожидания с надежностью 0.95.*"
   ]
  },
  {
   "cell_type": "markdown",
   "id": "4f33a8de",
   "metadata": {},
   "source": [
    "По условию задачи СКО генеральной совокупности $\\sigma$ неизвестно, значит доверительный интервал вычисляется по формуле:\n",
    "\n",
    "$$\\overline{X} \\pm t_{\\alpha/2} \\cdot \\frac{\\sigma_н}{\\sqrt{n}},$$\n",
    "\n",
    "где $t_{\\alpha/2}$ определяется по таблице Стьюдента для $95\\%$ доверительного интервала.\n",
    "\n",
    "Вычислим среднее по выборке:\n",
    "\n",
    "$$\\overline{X} = \\frac{1}{n}\\sum_{i = 1}^n x_i \\approx 118.099.$$\n",
    "\n",
    "Вычислим несмещенное стандартной отклонение, рассчитанное по выборке:\n",
    "\n",
    "$$\\sigma_н = \\sqrt{\\frac{\\sum_{i = 1}^n (x_i - \\overline{X})^2}{n - 1}} \\approx 10.546.$$\n",
    "\n",
    "Число степеней свободы:\n",
    "\n",
    "$$\\text{df} = n - 1 = 9.$$\n",
    "\n",
    "Так как $\\alpha = 5\\%$, то для $\\frac{\\alpha}{2} = 2.5\\%$ при $\\text{df} = 9$ по таблице Стьюдента получаем:\n",
    "\n",
    "$$t_{\\alpha/2} = 2.262.$$\n",
    "\n",
    "Подставляя в формулу, получаем выражение для интервала:\n",
    "\n",
    "$$118.099 \\pm \\left( 2.262 \\cdot \\frac{10.546}{\\sqrt{10}} \\right).$$\n",
    "\n",
    "После подсчета получаем границы 95%-доверительного интервала:\n",
    "\n",
    "$$[110.557; 125.643].$$"
   ]
  },
  {
   "cell_type": "code",
   "execution_count": 5,
   "id": "9bc46e04",
   "metadata": {},
   "outputs": [
    {
     "name": "stdout",
     "output_type": "stream",
     "text": [
      "mean = 118.0999984741211\n",
      "std_ddof = 10.54566764831543\n",
      "df = 9\n"
     ]
    }
   ],
   "source": [
    "# Расчет статистических параметров выборки\n",
    "arr = np.array([131, 125, 115, 122, 131, 115, 107, 99, 125, 111], dtype=np.float32)\n",
    "\n",
    "mean = np.mean(arr)\n",
    "std_ddof = np.std(arr, ddof=1)\n",
    "df = arr.size - 1\n",
    "\n",
    "print(f'mean = {mean}\\nstd_ddof = {std_ddof}\\ndf = {df}')"
   ]
  },
  {
   "cell_type": "code",
   "execution_count": 6,
   "id": "75f2d404",
   "metadata": {},
   "outputs": [
    {
     "name": "stdout",
     "output_type": "stream",
     "text": [
      "[110.55660640550073; 125.64339054274146]\n"
     ]
    }
   ],
   "source": [
    "# Расчет границ доверительного интервала\n",
    "v = 2.262 * std_ddof / np.sqrt(10)\n",
    "a = mean - v\n",
    "b = mean + v\n",
    "print(f'[{a}; {b}]')"
   ]
  },
  {
   "cell_type": "code",
   "execution_count": 7,
   "id": "378fa034",
   "metadata": {},
   "outputs": [
    {
     "name": "stdout",
     "output_type": "stream",
     "text": [
      "z = 2.2621571627409915\n"
     ]
    }
   ],
   "source": [
    "# Проверка найденного значения z через scipy\n",
    "z = t.ppf(0.975, df)\n",
    "print(f'z = {z}')"
   ]
  },
  {
   "cell_type": "markdown",
   "id": "f31cc4e0",
   "metadata": {},
   "source": [
    "**Ответ (задание 2):** $[110.557; 125.643]$ - 95%-доверительный интервал."
   ]
  },
  {
   "cell_type": "markdown",
   "id": "37efef95",
   "metadata": {},
   "source": [
    "### Задание 3 <a class='anchor' id='corr_3'>\n",
    "    \n",
    "Известно, что рост футболистов в сборной распределен нормально с дисперсией генеральной совокупности, равной 25 кв.см. Объем выборки равен 27, среднее выборочное составляет 174.2. \n",
    "    \n",
    "*Найдите доверительный интервал для математического ожидания с надежностью 0.95.*"
   ]
  },
  {
   "cell_type": "markdown",
   "id": "0c788b82",
   "metadata": {},
   "source": [
    "По условию задачи СКО генеральной совокупности $\\sigma$ известно, значит доверительный интервал вычисляется по формуле:\n",
    "\n",
    "$$\\overline{X} \\pm Z_{\\alpha/2} \\cdot \\frac{\\sigma}{\\sqrt{n}},$$\n",
    "\n",
    "где $Z_{\\alpha/2}$ определяется по таблице $Z$-значений для $95\\%$ доверительного интервала.\n",
    "\n",
    "Так как $\\alpha = 5\\%$, то для $Z_{\\alpha/2}$ соответствует значение $97.5\\%$, тогда по таблице получаем:\n",
    "\n",
    "$$Z_{\\alpha/2} = 1.96.$$\n",
    "\n",
    "Известно, что $\\overline{X} = 174.2$, $n = 27$, $D = 25$, и СКО:\n",
    "\n",
    "$$\\sigma = \\sqrt{D} = 5,$$\n",
    "\n",
    "тогда, подставляя в формулу, получаем выражение для интервала:\n",
    "\n",
    "$$174.2 \\pm \\left( 1.96 \\cdot \\frac{5}{\\sqrt{27}} \\right).$$\n",
    "\n",
    "После подсчета получаем границы 95%-доверительного интервала:\n",
    "\n",
    "$$[172.314; 176.086].$$"
   ]
  },
  {
   "cell_type": "code",
   "execution_count": 8,
   "id": "befdac1b",
   "metadata": {},
   "outputs": [
    {
     "name": "stdout",
     "output_type": "stream",
     "text": [
      "[172.31398912064722; 176.08601087935276]\n"
     ]
    }
   ],
   "source": [
    "# Расчет границ доверительного интервала\n",
    "mean = 174.2\n",
    "v = 1.96 * 5 / np.sqrt(27)\n",
    "a = mean - v \n",
    "b = mean + v\n",
    "print(f'[{a}; {b}]')"
   ]
  },
  {
   "cell_type": "code",
   "execution_count": 9,
   "id": "c860f173",
   "metadata": {},
   "outputs": [
    {
     "name": "stdout",
     "output_type": "stream",
     "text": [
      "z = 1.959963984540054\n"
     ]
    }
   ],
   "source": [
    "# Проверка найденного значения z через scipy\n",
    "z = norm.ppf(0.975)\n",
    "print(f'z = {z}')"
   ]
  },
  {
   "cell_type": "markdown",
   "id": "f83c8600",
   "metadata": {},
   "source": [
    "**Ответ (задание 3):** $[172.314; 176.086]$ - 95%-доверительный интервал."
   ]
  }
 ],
 "metadata": {
  "kernelspec": {
   "display_name": "Python 3 (ipykernel)",
   "language": "python",
   "name": "python3"
  },
  "language_info": {
   "codemirror_mode": {
    "name": "ipython",
    "version": 3
   },
   "file_extension": ".py",
   "mimetype": "text/x-python",
   "name": "python",
   "nbconvert_exporter": "python",
   "pygments_lexer": "ipython3",
   "version": "3.9.7"
  }
 },
 "nbformat": 4,
 "nbformat_minor": 5
}
