{
 "cells": [
  {
   "cell_type": "markdown",
   "id": "67d58beb",
   "metadata": {},
   "source": [
    "# Дисперсионный анализ. Логистическая регрессия. <a class='anchor' id='dispersive'>"
   ]
  },
  {
   "cell_type": "code",
   "execution_count": 1,
   "id": "93ae20f2",
   "metadata": {},
   "outputs": [],
   "source": [
    "import numpy as np\n",
    "from scipy import stats"
   ]
  },
  {
   "cell_type": "markdown",
   "id": "bf64c28f",
   "metadata": {},
   "source": [
    "### Задание 1 <a class='anchor' id='dispersive_1'>\n",
    "    \n",
    "Даны значения роста в трех группах случайно выбранных спортсменов: \n",
    "\n",
    "Футболисты: 173, 175, 180, 178, 177, 185, 183, 182.\n",
    "    \n",
    "Хоккеисты: 177, 179, 180, 188, 177, 172, 171, 184, 180.\n",
    "\n",
    "Штангисты: 172, 173, 169, 177, 166, 180, 178, 177, 172, 166, 170.\n",
    "    \n",
    "*Провести дисперсионный анализ для определения того, есть ли различия среднего роста среди взрослых футболистов, хоккеистов и штангистов.*"
   ]
  },
  {
   "cell_type": "markdown",
   "id": "7e363b7f",
   "metadata": {},
   "source": [
    "Рассматривается однофакторный дисперсионный анализ. \n",
    "\n",
    "Количественнная переменная - рост, качественная - вид спорта.\n",
    "\n",
    "По условию задачи имеем 3 выборки для исследования, то есть количество уровней $k = 3$.\n",
    "\n",
    "Сформулируем гипотезы:\n",
    "\n",
    "$$H_0: \\mu_1 = \\mu_2 = \\mu_3,$$\n",
    "\n",
    "$$H_1: \\mu_1 \\neq \\mu_2 \\neq \\mu_3.$$\n",
    "\n",
    "Нулевая гипотеза $H_0$: рост спортсменов не зависит от вида спорта.\n",
    "\n",
    "Альтернативная гипотеза $H_1$: рост спорстменов зависит от вида спорта.\n",
    "\n",
    "Выберем уровень значимости $\\alpha = 5\\%$.\n",
    "\n",
    "Используя функцию stats.f_oneway(args), вычислили значение статистики и p_value:\n",
    "\n",
    "$$\\text{p_value} \\approx 0.01 < 0.05,$$\n",
    "\n",
    "то есть при $\\alpha = 5\\%$ гипотеза $H_0$ неверна, значит есть статистически значимые различия между средним ростом спортсменов в трех группах разных видов спорта."
   ]
  },
  {
   "cell_type": "code",
   "execution_count": 2,
   "id": "86aca458",
   "metadata": {},
   "outputs": [],
   "source": [
    "# Заданные выборки\n",
    "footballer = np.array([173, 175, 180, 178, 177, 185, 183, 182], dtype=np.float32)\n",
    "hockey_players = np.array([177, 179, 180, 188, 177, 172, 171, 184, 180], dtype=np.float32)\n",
    "weight_lifters = np.array([172, 173, 169, 177, 166, 180, 178, 177, 172, 166, 170], dtype=np.float32)"
   ]
  },
  {
   "cell_type": "code",
   "execution_count": 3,
   "id": "395d476c",
   "metadata": {
    "scrolled": true
   },
   "outputs": [
    {
     "data": {
      "text/plain": [
       "F_onewayResult(statistic=5.500053450812596, pvalue=0.010482206918698694)"
      ]
     },
     "execution_count": 3,
     "metadata": {},
     "output_type": "execute_result"
    }
   ],
   "source": [
    "# Вычисление статистики и p-value\n",
    "stats.f_oneway(footballer, hockey_players, weight_lifters)"
   ]
  },
  {
   "cell_type": "markdown",
   "id": "d690fa9c",
   "metadata": {},
   "source": [
    "**Ответ (задание 1):** рост спорстменов зависит от вида спорта при $\\alpha = 5\\%$."
   ]
  }
 ],
 "metadata": {
  "kernelspec": {
   "display_name": "Python 3 (ipykernel)",
   "language": "python",
   "name": "python3"
  },
  "language_info": {
   "codemirror_mode": {
    "name": "ipython",
    "version": 3
   },
   "file_extension": ".py",
   "mimetype": "text/x-python",
   "name": "python",
   "nbconvert_exporter": "python",
   "pygments_lexer": "ipython3",
   "version": "3.9.7"
  }
 },
 "nbformat": 4,
 "nbformat_minor": 5
}
